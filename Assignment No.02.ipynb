{
 "cells": [
  {
   "cell_type": "markdown",
   "metadata": {},
   "source": [
    "# Assignment No. 02"
   ]
  },
  {
   "cell_type": "markdown",
   "metadata": {},
   "source": [
    "**Answer No.01**"
   ]
  },
  {
   "cell_type": "code",
   "execution_count": 3,
   "metadata": {},
   "outputs": [
    {
     "name": "stdout",
     "output_type": "stream",
     "text": [
      "Enter Physics Marks80\n",
      "Enter Chemistry Marks89\n",
      "Enter Mathematics Marks98\n",
      "Enter Biology Marks89\n",
      "Enter Computer Marks88\n",
      "A+\n"
     ]
    }
   ],
   "source": [
    "phy=float(input(\"Enter Physics Marks\"));\n",
    "chem=float(input(\"Enter Chemistry Marks\"));\n",
    "mat=float(input(\"Enter Mathematics Marks\"));\n",
    "bio=float(input(\"Enter Biology Marks\"));\n",
    "comp=float(input(\"Enter Computer Marks\"));\n",
    "total = phy+chem+bio+mat+comp;\n",
    "per = (total/500)*100;\n",
    "print(\"Your Total is:\",total);\n",
    "print(\"Your Percentage is:\",per);\n",
    "if per >= 0 and per <=100:\n",
    "    if per >=80:\n",
    "        print(\"A+\");\n",
    "    elif per >=70 and per <=79:\n",
    "        print(\"A\");\n",
    "    elif per >=60 and per <=69:\n",
    "        print(\"B\");\n",
    "    elif per >=50 and per <=59:\n",
    "        print(\"C\");\n",
    "    elif per >=40 and per <=49:\n",
    "        print(\"D\");\n",
    "    elif per >=33 and per <=39:\n",
    "        print(\"E\");    \n",
    "    else:\n",
    "        print(\"Fail\");\n",
    "else:\n",
    "    print(\"Invalid Input\");"
   ]
  },
  {
   "cell_type": "markdown",
   "metadata": {},
   "source": [
    "**Answer No.02**"
   ]
  },
  {
   "cell_type": "code",
   "execution_count": 5,
   "metadata": {},
   "outputs": [
    {
     "name": "stdout",
     "output_type": "stream",
     "text": [
      "Enter No.9\n",
      "Odd\n"
     ]
    }
   ],
   "source": [
    "num=int(input(\"Enter No.\"));\n",
    "if num%2==0:\n",
    "    print(\"Even\");\n",
    "else:\n",
    "    print(\"Odd\");\n"
   ]
  },
  {
   "cell_type": "markdown",
   "metadata": {},
   "source": [
    "**Answer No.03**"
   ]
  },
  {
   "cell_type": "code",
   "execution_count": 8,
   "metadata": {},
   "outputs": [
    {
     "name": "stdout",
     "output_type": "stream",
     "text": [
      "4\n"
     ]
    }
   ],
   "source": [
    "list1 = [\"Hello\",\"World\",2,\"Apple\"];\n",
    "print(len(list1));"
   ]
  },
  {
   "cell_type": "markdown",
   "metadata": {},
   "source": [
    " **Answer No.04**"
   ]
  },
  {
   "cell_type": "code",
   "execution_count": 9,
   "metadata": {},
   "outputs": [
    {
     "name": "stdout",
     "output_type": "stream",
     "text": [
      "45\n"
     ]
    }
   ],
   "source": [
    "list2=[1,2,3,4,5,6,7,8,9];\n",
    "print(sum(list2));"
   ]
  },
  {
   "cell_type": "markdown",
   "metadata": {},
   "source": [
    " **Answer No.05**"
   ]
  },
  {
   "cell_type": "code",
   "execution_count": 10,
   "metadata": {},
   "outputs": [
    {
     "name": "stdout",
     "output_type": "stream",
     "text": [
      "888\n"
     ]
    }
   ],
   "source": [
    "list3=[10,28,35,45,5,6,78,888,90];\n",
    "print(max(list3));"
   ]
  },
  {
   "cell_type": "markdown",
   "metadata": {},
   "source": [
    "**Answer No.06**"
   ]
  },
  {
   "cell_type": "code",
   "execution_count": 13,
   "metadata": {},
   "outputs": [
    {
     "name": "stdout",
     "output_type": "stream",
     "text": [
      "[0, -3, -2, 4, 3, -4, 2]\n"
     ]
    }
   ],
   "source": [
    "list4=[0,8,-3,-2,4,3,56,-4,2];\n",
    "l=[i for i in list4 if i < 5];\n",
    "print(l);"
   ]
  },
  {
   "cell_type": "code",
   "execution_count": null,
   "metadata": {},
   "outputs": [],
   "source": []
  }
 ],
 "metadata": {
  "kernelspec": {
   "display_name": "Python 3",
   "language": "python",
   "name": "python3"
  },
  "language_info": {
   "codemirror_mode": {
    "name": "ipython",
    "version": 3
   },
   "file_extension": ".py",
   "mimetype": "text/x-python",
   "name": "python",
   "nbconvert_exporter": "python",
   "pygments_lexer": "ipython3",
   "version": "3.7.1"
  }
 },
 "nbformat": 4,
 "nbformat_minor": 2
}
